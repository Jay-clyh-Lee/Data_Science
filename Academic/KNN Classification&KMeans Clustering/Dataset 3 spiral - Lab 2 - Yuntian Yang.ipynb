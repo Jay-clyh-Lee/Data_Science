{
 "cells": [
  {
   "cell_type": "code",
   "execution_count": 2,
   "metadata": {},
   "outputs": [],
   "source": [
    "import numpy as np \n",
    "import pandas as pd \n",
    "import matplotlib.pyplot as plt\n",
    "import seaborn as sns"
   ]
  },
  {
   "cell_type": "markdown",
   "metadata": {},
   "source": [
    "# Dataset1 Spiral"
   ]
  },
  {
   "cell_type": "code",
   "execution_count": 3,
   "metadata": {},
   "outputs": [
    {
     "data": {
      "text/html": [
       "<div>\n",
       "<style scoped>\n",
       "    .dataframe tbody tr th:only-of-type {\n",
       "        vertical-align: middle;\n",
       "    }\n",
       "\n",
       "    .dataframe tbody tr th {\n",
       "        vertical-align: top;\n",
       "    }\n",
       "\n",
       "    .dataframe thead th {\n",
       "        text-align: right;\n",
       "    }\n",
       "</style>\n",
       "<table border=\"1\" class=\"dataframe\">\n",
       "  <thead>\n",
       "    <tr style=\"text-align: right;\">\n",
       "      <th></th>\n",
       "      <th>X1</th>\n",
       "      <th>X2</th>\n",
       "      <th>Label</th>\n",
       "    </tr>\n",
       "  </thead>\n",
       "  <tbody>\n",
       "    <tr>\n",
       "      <th>0</th>\n",
       "      <td>31.95</td>\n",
       "      <td>7.95</td>\n",
       "      <td>3</td>\n",
       "    </tr>\n",
       "    <tr>\n",
       "      <th>1</th>\n",
       "      <td>31.15</td>\n",
       "      <td>7.30</td>\n",
       "      <td>3</td>\n",
       "    </tr>\n",
       "    <tr>\n",
       "      <th>2</th>\n",
       "      <td>30.45</td>\n",
       "      <td>6.65</td>\n",
       "      <td>3</td>\n",
       "    </tr>\n",
       "    <tr>\n",
       "      <th>3</th>\n",
       "      <td>29.70</td>\n",
       "      <td>6.00</td>\n",
       "      <td>3</td>\n",
       "    </tr>\n",
       "    <tr>\n",
       "      <th>4</th>\n",
       "      <td>28.90</td>\n",
       "      <td>5.55</td>\n",
       "      <td>3</td>\n",
       "    </tr>\n",
       "  </tbody>\n",
       "</table>\n",
       "</div>"
      ],
      "text/plain": [
       "      X1    X2  Label\n",
       "0  31.95  7.95      3\n",
       "1  31.15  7.30      3\n",
       "2  30.45  6.65      3\n",
       "3  29.70  6.00      3\n",
       "4  28.90  5.55      3"
      ]
     },
     "execution_count": 3,
     "metadata": {},
     "output_type": "execute_result"
    }
   ],
   "source": [
    "# spiral dataset\n",
    "spiral = pd.read_csv(r'Part1_data\\dataset_3\\spiral.txt', header = None, delim_whitespace=True)\n",
    "spiral.shape\n",
    "spiral.columns\n",
    "\n",
    "colnames = []\n",
    "for i in range(spiral.shape[1]):\n",
    "    colnames.append('X' + str(i+1))\n",
    "\n",
    "spiral.columns = colnames\n",
    "spiral.head()    \n",
    "    \n",
    "# combine the X data and y_true label as a new dataframe\n",
    "spiral = spiral.rename(columns = {'X3': 'Label'})\n",
    "spiral.head()"
   ]
  },
  {
   "cell_type": "code",
   "execution_count": 5,
   "metadata": {},
   "outputs": [
    {
     "data": {
      "image/png": "[encoded data removed]",
      "text/plain": [
       "<Figure size 432x288 with 1 Axes>"
      ]
     },
     "metadata": {
      "needs_background": "light"
     },
     "output_type": "display_data"
    }
   ],
   "source": [
    "# supervised plot of all points using given label and centroids\n",
    "\n",
    "colors = ['b', 'g', 'r', 'c', 'm', 'y', 'k', 'grey','brown','tomato','darkorange','magenta','royalblue','limegreen','turquoise', 'pink']\n",
    "plt.figure()\n",
    "for i in range(1, 3):\n",
    "    plt.scatter(spiral.X1[spiral.Label == i], spiral.X2[spiral.Label == i], s=10, c=colors[i-1]) # color is repeated, use unique colors\n",
    "plt.title('original')\n",
    "plt.xlabel('X1')\n",
    "plt.ylabel('X2')\n",
    "plt.show()"
   ]
  },
  {
   "cell_type": "code",
   "execution_count": 6,
   "metadata": {},
   "outputs": [],
   "source": [
    "\"\"\" Step 3: Split data into train and test. \"\"\"\n",
    "from sklearn.model_selection import train_test_split\n",
    "\n",
    "X = spiral\n",
    "y = spiral.Label\n",
    "X_train, X_test, y_train, y_test = train_test_split(X, y, test_size = 1/5, random_state = 0)\n",
    "X_train = np.array(X_train)\n",
    "X_test = np.array(X_test)\n",
    "y_train = np.array(y_train)\n",
    "y_test = np.array(y_test)"
   ]
  },
  {
   "cell_type": "markdown",
   "metadata": {},
   "source": [
    "### knn"
   ]
  },
  {
   "cell_type": "code",
   "execution_count": 30,
   "metadata": {},
   "outputs": [
    {
     "name": "stdout",
     "output_type": "stream",
     "text": [
      "100.0%\n"
     ]
    }
   ],
   "source": [
    "\"\"\" Step 4 (2 pts): Use KNN (own NumPy code & sklearn library) to clusters the data.\"\"\"\n",
    "# function 1. Euclidean Distance function between two rows\n",
    "def euclidean_distance(row1, row2): \n",
    "    \"\"\"This function returns the Euclidean Distance between two rows\"\"\"\n",
    "    \n",
    "    # this converts to np.arrays nn case that data sets are not converted\n",
    "    row1, row2 = np.array(row1), np.array(row2)\n",
    "    \n",
    "    distance = 0\n",
    "    for i in range(len(row1)):     #-1\n",
    "        # sum of squared differences\n",
    "        distance += np.square(row1[i] - row2[i])\n",
    "    # return the square root of the sum\n",
    "    return np.sqrt(distance)\n",
    "\n",
    "#test code for func 2\n",
    "X_train[0, :-1]\n",
    "X_test[0, :-1]\n",
    "euclidean_distance(X_train[0, :-1], X_test[0, :-1])\n",
    "\n",
    "# function 2. predicting the class of a test row using knn algorithm\n",
    "def predict(k, train_set, test_instance): #here we are defining our model\n",
    "    \"\"\"This function returns the nearest neighbors\n",
    "        train_set: training data set that includes labels\n",
    "        test_instance: a row in the test set that also include its label\n",
    "        k: number of neighborhoods\n",
    "    \"\"\"\n",
    "    # this converts to np.arrays nn case that data sets are not converted\n",
    "    train_set = np.array(train_set)\n",
    "    test_instance = np.array(test_instance)\n",
    "    \n",
    "    l = len(train_set)\n",
    "\n",
    "    # empty list to store distances of each row in train set vs a row in test set\n",
    "    distances = []\n",
    "    for i in range(l): # -1\n",
    "        # find the distance between each row of train set and the test instance (a single row)\n",
    "        dist = euclidean_distance(train_set[i, :-1], test_instance)\n",
    "        # append the row from train set and its distance to the test instance\n",
    "        distances.append((train_set[i], dist))\n",
    "        \n",
    "    # sort the distances list by dist\n",
    "    distances.sort(key = lambda x: x[1])\n",
    "    \n",
    "    # empty list to store k nearest neighbors\n",
    "    neighbors = []    \n",
    "    for i in range(k):\n",
    "        # append the rows from train set in distances to neighborhoods\n",
    "        neighbors.append(distances[i][0])\n",
    "        \n",
    "    # determine the class of a test instance\n",
    "    classes = {}\n",
    "    for i in range(len(neighbors)):\n",
    "        # \n",
    "        response = neighbors[i][-1]\n",
    "        \n",
    "        # \n",
    "        if response in classes:\n",
    "            classes[response] += 1\n",
    "        # \n",
    "        else:\n",
    "            classes[response] = 1\n",
    "            \n",
    "    # sort the values in classes in descending order\n",
    "    sorted_classes = sorted(classes.items(), key = lambda x: x[1], reverse = True)\n",
    "    \n",
    "    # return the one has the highest vote\n",
    "    return(sorted_classes[0][0])\n",
    "\n",
    "\n",
    "# function 3. evaluate the model and returns accuracy\n",
    "def evaluate(y_true, y_pred):\n",
    "    \"\"\"returns % of correct prediction\"\"\"\n",
    "    \n",
    "    # number of correct predictions\n",
    "    correct = 0\n",
    "    \n",
    "    # iterate over 2 arrays at the same time\n",
    "    for actual, pred in zip(y_true, y_pred):\n",
    "        # if\n",
    "        if actual == pred:\n",
    "            correct += 1\n",
    "    \n",
    "    # accuray\n",
    "    return str(np.round(correct /len(y_true)*100 ,2)) + '%'\n",
    "## end of functions of KNN ##\n",
    "\n",
    "## clustering\n",
    "# empty list to store predictions\n",
    "k = 3\n",
    "y_pred = []\n",
    "for i in range(len(X_test)):\n",
    "    predictor = X_test[i, :-1]\n",
    "    prediction = predict(k, X_train, predictor)\n",
    "    y_pred.append(prediction)\n",
    "\n",
    "# true labels\n",
    "actual = np.array(y_test)\n",
    "# evaluation\n",
    "print(evaluate(actual, y_pred))\n",
    "\n",
    "\n",
    "# KNN using sci-kit learn\n",
    "from sklearn.neighbors import KNeighborsClassifier\n",
    "knn= KNeighborsClassifier(n_neighbors = 3, metric = 'minkowski', p = 2)\n",
    "knn.fit(X_train, y_train)\n",
    "y_knn = knn.predict(X_test)"
   ]
  },
  {
   "cell_type": "code",
   "execution_count": 22,
   "metadata": {},
   "outputs": [
    {
     "data": {
      "image/png": "[encoded data removed]",
      "text/plain": [
       "<Figure size 432x288 with 1 Axes>"
      ]
     },
     "metadata": {
      "needs_background": "light"
     },
     "output_type": "display_data"
    },
    {
     "data": {
      "image/png": "[encoded data removed]",
      "text/plain": [
       "<Figure size 432x288 with 1 Axes>"
      ]
     },
     "metadata": {
      "needs_background": "light"
     },
     "output_type": "display_data"
    }
   ],
   "source": [
    "\"\"\" Step 5 (1 pts): Plot your result in different colors similar to Step 2. \"\"\"\n",
    "\n",
    " # new arrays without labels\n",
    "X_tr = X_train[:, :-1]\n",
    "X_te = X_test[:, :-1]\n",
    "\n",
    "# this is a plot of the test set\n",
    "plt.figure()\n",
    "for i in range(1, 3):\n",
    "    plt.scatter(X_te[:, 0][np.array(y_pred) == i], X_te[:, 1][np.array(y_pred) == i], s=10, c = colors[i-1]) \n",
    "plt.title('knn implemented')\n",
    "plt.show()\n",
    "\n",
    "plt.figure()\n",
    "for i in range(1, 3):\n",
    "    plt.scatter(X_te[:, 0][np.array(y_knn) == i], X_te[:, 1][np.array(y_knn) == i], s=10, c = colors[i-1]) \n",
    "plt.title('knn sklearn')\n",
    "plt.show()"
   ]
  },
  {
   "cell_type": "code",
   "execution_count": 10,
   "metadata": {},
   "outputs": [
    {
     "name": "stdout",
     "output_type": "stream",
     "text": [
      "[[18  0  0]\n",
      " [ 0 23  0]\n",
      " [ 0  0 22]]\n",
      "1.0\n",
      "[[18  0  0]\n",
      " [ 0 23  0]\n",
      " [ 0  0 22]]\n",
      "1.0\n"
     ]
    }
   ],
   "source": [
    "\"\"\" Step 6 (1 pts): Print the confusion matrix to check model performance. \"\"\"\n",
    "from sklearn.metrics import confusion_matrix\n",
    "# cm_own\n",
    "cm_own = confusion_matrix(y_test, y_pred) # y_pred is from my implementation\n",
    "print(cm_own)\n",
    "print(np.sum(np.diag(cm_own))/len(X_test))\n",
    "\n",
    "# cm_sklearn\n",
    "cm_knn = confusion_matrix(y_test, y_knn) # y_knn is from sklearn \n",
    "print(cm_knn)\n",
    "print(np.sum(np.diag(cm_knn))/len(X_test))"
   ]
  },
  {
   "cell_type": "markdown",
   "metadata": {},
   "source": [
    "### kmeans"
   ]
  },
  {
   "cell_type": "code",
   "execution_count": 31,
   "metadata": {},
   "outputs": [
    {
     "data": {
      "text/plain": [
       "(63, 2)"
      ]
     },
     "execution_count": 31,
     "metadata": {},
     "output_type": "execute_result"
    }
   ],
   "source": [
    "\"\"\"Step 7 (4 pts): Repeat Steps 3 - 6 and use K-means (own NumPy code & sklearn library) to\n",
    "perform the same. Additionally, print the centroids.\"\"\"\n",
    "from copy import deepcopy\n",
    "\n",
    "\n",
    "######## same as step 3 but kmeans #########\n",
    "K = 3 # Number of clusters\n",
    "n = X_te.shape[0] # rows\n",
    "c = X_te.shape[1] # cols except label\n",
    "n,c"
   ]
  },
  {
   "cell_type": "code",
   "execution_count": 32,
   "metadata": {},
   "outputs": [
    {
     "data": {
      "text/plain": [
       "array([[0., 0., 0.],\n",
       "       [0., 0., 0.],\n",
       "       [0., 0., 0.],\n",
       "       [0., 0., 0.],\n",
       "       [0., 0., 0.],\n",
       "       [0., 0., 0.],\n",
       "       [0., 0., 0.],\n",
       "       [0., 0., 0.],\n",
       "       [0., 0., 0.],\n",
       "       [0., 0., 0.],\n",
       "       [0., 0., 0.],\n",
       "       [0., 0., 0.],\n",
       "       [0., 0., 0.],\n",
       "       [0., 0., 0.],\n",
       "       [0., 0., 0.],\n",
       "       [0., 0., 0.],\n",
       "       [0., 0., 0.],\n",
       "       [0., 0., 0.],\n",
       "       [0., 0., 0.],\n",
       "       [0., 0., 0.],\n",
       "       [0., 0., 0.],\n",
       "       [0., 0., 0.],\n",
       "       [0., 0., 0.],\n",
       "       [0., 0., 0.],\n",
       "       [0., 0., 0.],\n",
       "       [0., 0., 0.],\n",
       "       [0., 0., 0.],\n",
       "       [0., 0., 0.],\n",
       "       [0., 0., 0.],\n",
       "       [0., 0., 0.],\n",
       "       [0., 0., 0.],\n",
       "       [0., 0., 0.],\n",
       "       [0., 0., 0.],\n",
       "       [0., 0., 0.],\n",
       "       [0., 0., 0.],\n",
       "       [0., 0., 0.],\n",
       "       [0., 0., 0.],\n",
       "       [0., 0., 0.],\n",
       "       [0., 0., 0.],\n",
       "       [0., 0., 0.],\n",
       "       [0., 0., 0.],\n",
       "       [0., 0., 0.],\n",
       "       [0., 0., 0.],\n",
       "       [0., 0., 0.],\n",
       "       [0., 0., 0.],\n",
       "       [0., 0., 0.],\n",
       "       [0., 0., 0.],\n",
       "       [0., 0., 0.],\n",
       "       [0., 0., 0.],\n",
       "       [0., 0., 0.],\n",
       "       [0., 0., 0.],\n",
       "       [0., 0., 0.],\n",
       "       [0., 0., 0.],\n",
       "       [0., 0., 0.],\n",
       "       [0., 0., 0.],\n",
       "       [0., 0., 0.],\n",
       "       [0., 0., 0.],\n",
       "       [0., 0., 0.],\n",
       "       [0., 0., 0.],\n",
       "       [0., 0., 0.],\n",
       "       [0., 0., 0.],\n",
       "       [0., 0., 0.],\n",
       "       [0., 0., 0.]])"
      ]
     },
     "execution_count": 32,
     "metadata": {},
     "output_type": "execute_result"
    }
   ],
   "source": [
    "######## same as step 4 but kmeans #########\n",
    "# random centroids\n",
    "mean = np.mean(X_te, axis = 0)\n",
    "mean\n",
    "std = np.std(X_te, axis = 0)\n",
    "std\n",
    "\n",
    "centroids = np.random.randn(K,c)*std + mean\n",
    "centroids\n",
    "\n",
    "centroids_old = np.zeros(centroids.shape) # to store old centroids\n",
    "centroids_old\n",
    "\n",
    "centroids_new = deepcopy(centroids) # Store new centroids\n",
    "centroids_new\n",
    "\n",
    "clusters = np.zeros(n)\n",
    "clusters\n",
    "distances = np.zeros((n,K))\n",
    "distances"
   ]
  },
  {
   "cell_type": "code",
   "execution_count": 33,
   "metadata": {},
   "outputs": [
    {
     "name": "stdout",
     "output_type": "stream",
     "text": [
      "6.033711899256928\n",
      "2.4547704441694758\n",
      "0.8950775062340871\n",
      "0.9544653947371203\n",
      "1.2906625204192403\n",
      "1.529821530854119\n",
      "1.8268928409704819\n",
      "0.0\n"
     ]
    },
    {
     "data": {
      "text/plain": [
       "array([[13.49375   , 23.3       ],\n",
       "       [17.89736842,  7.23947368],\n",
       "       [26.13      , 20.505     ]])"
      ]
     },
     "execution_count": 33,
     "metadata": {},
     "output_type": "execute_result"
    }
   ],
   "source": [
    "# find the error between the old and new centroids\n",
    "error = np.linalg.norm(centroids_new - centroids_old)\n",
    "error\n",
    "\n",
    "# When, after an update, the estimate of that center stays the same, exit loop\n",
    "\n",
    "# number of iterations\n",
    "n_iterations = 100\n",
    "\n",
    "while error != 0:\n",
    "    # Measure the distance to every center\n",
    "    for i in range(K):\n",
    "        distances[:,i] = np.linalg.norm(X_te - centroids_new[i], axis=1)\n",
    "    \n",
    "    # use minimum distance as reference to allocate data to the closest center\n",
    "    clusters = np.argmin(distances, axis = 1)\n",
    "    \n",
    "    centroids_old = deepcopy(centroids_new)\n",
    "    # Calculate mean for every cluster and update the center\n",
    "    for i in range(K):\n",
    "        centroids_new[i] = np.mean(X_te[clusters == i], axis=0)\n",
    "    error = np.linalg.norm(centroids_new - centroids_old)\n",
    "    \n",
    "    print(error)\n",
    "    n_iterations -= 1\n",
    "    \n",
    "centroids_new"
   ]
  },
  {
   "cell_type": "code",
   "execution_count": 28,
   "metadata": {},
   "outputs": [
    {
     "name": "stdout",
     "output_type": "stream",
     "text": [
      "0 in y_kmeans is 3 in y_test\n",
      "1 in y_kmeans is 2 in y_test\n",
      "2 in y_kmeans is 3 in y_test\n"
     ]
    }
   ],
   "source": [
    "## sklearn \n",
    "\n",
    "from sklearn.cluster import KMeans\n",
    "\n",
    "kmeans = KMeans(n_clusters = 3, init = 'k-means++', random_state = 0)\n",
    "kmeans.fit(X_train, y_train)\n",
    "y_kmeans = kmeans.predict(X_test)\n",
    "len(y_kmeans)\n",
    "np.min(y_kmeans)\n",
    "np.max(y_kmeans)\n",
    "\n",
    "# relabeling by majority vote\n",
    "y_kmeans_voted = y_kmeans.copy()\n",
    "for i in range(0, 3):\n",
    "    n = np.argmax(np.bincount(y_test[y_kmeans == i]))\n",
    "    print(i, 'in y_kmeans is', n, 'in y_test')\n",
    "    y_kmeans_voted[y_kmeans == i] = n"
   ]
  },
  {
   "cell_type": "code",
   "execution_count": 34,
   "metadata": {},
   "outputs": [
    {
     "data": {
      "image/png": "[encoded data removed]",
      "text/plain": [
       "<Figure size 432x288 with 1 Axes>"
      ]
     },
     "metadata": {
      "needs_background": "light"
     },
     "output_type": "display_data"
    },
    {
     "data": {
      "image/png": "[encoded data removed]",
      "text/plain": [
       "<Figure size 432x288 with 1 Axes>"
      ]
     },
     "metadata": {
      "needs_background": "light"
     },
     "output_type": "display_data"
    }
   ],
   "source": [
    "######## same as step 5 but kmeans #########\n",
    "\n",
    "#plot \n",
    "plt.figure()\n",
    "for i in range(1, 3):\n",
    "    plt.scatter(X_te[:, 0][y_kmeans_voted == i], X_te[:, 1][y_kmeans_voted == i], s=10, c = colors[i-1])\n",
    "plt.scatter(centroids_new[:,0], centroids_new[:,1], marker='*', s=100)\n",
    "plt.title('kmeans implemented')\n",
    "plt.show()\n",
    "\n",
    "# Plot\n",
    "plt.figure()\n",
    "for i in range(1,3):\n",
    "    plt.scatter(X_te[y_kmeans_voted == i, 0], X_te[y_kmeans_voted == i, 1], s = 10, c = colors[i-1], label = 'Cluster')\n",
    "    plt.scatter(kmeans.cluster_centers_[:, 0], kmeans.cluster_centers_[:, 1], marker='*', s=100, label = 'Centroids')\n",
    "plt.title('kmeans sklearn')\n",
    "plt.show()\n",
    "\n",
    "# X_te[y_kmeans == 1, 0] == X_te[:, 0][y_kmeans == 1]"
   ]
  },
  {
   "cell_type": "code",
   "execution_count": 11,
   "metadata": {},
   "outputs": [
    {
     "name": "stdout",
     "output_type": "stream",
     "text": [
      "[[59  0  0  0  0  0  0  0  0  0  0  0  0  0  0]\n",
      " [ 0 68  0  0  1  0  0  0  0  0  0  0  0  1  0]\n",
      " [ 0  0 64  0  0  0  0  0  0  0  0  0  0  0  0]\n",
      " [ 0  0  0 55  0  0  0  0  0  0  0  0  0  0  1]\n",
      " [ 0  0  0  0 77  0  0  0  0  0  0  0  0  0  0]\n",
      " [ 0  0  0  0  0 52  0  0  0  0  0  0  0  0  0]\n",
      " [ 0  0  0  0  0  0 61  0  0  0  0  0  0  0  0]\n",
      " [ 0  2  0  0  0  0  0 54  0  0  0  0  1  0  0]\n",
      " [ 0  0  0  0  0  0  0  0 84  0  0  0  0  0  0]\n",
      " [ 0  0  0  0  0  0  0  0  0 66  0  1  0  0  0]\n",
      " [ 0  0  0  0  0  0  0  0  0  0 61  0  0  0  0]\n",
      " [ 0  0  0  0  0  0  0  0  0  1  0 77  0  0  0]\n",
      " [ 0  0  0  0  0  0  0  0  0  0  0  0 74  0  0]\n",
      " [ 0  0  0  0  0  0  0  0  0  0  0  0  0 80  0]\n",
      " [ 0  0  0  0  0  0  0  0  0  0  0  0  0  0 60]]\n"
     ]
    },
    {
     "data": {
      "text/plain": [
       "0.992"
      ]
     },
     "execution_count": 11,
     "metadata": {},
     "output_type": "execute_result"
    }
   ],
   "source": [
    "######## same as step 6 but kmeans #########\n",
    "# confusion matrix\n",
    "cm_kmeans = confusion_matrix(y_test, y_kmeans_voted)\n",
    "print(cm_kmeans)\n",
    "np.sum(np.diag(cm_kmeans))/len(X_test)"
   ]
  },
  {
   "cell_type": "code",
   "execution_count": null,
   "metadata": {},
   "outputs": [],
   "source": [
    "\"\"\"Step 8 (1pts): Compare the results between KNN and K-means\"\"\"\n",
    "# KNN and KMeans are very similar.\n",
    "# Both have the right clusters and the right centroids whereas KNN has higher accuracy in predicting centroids and clusters."
   ]
  }
 ],
 "metadata": {
  "kernelspec": {
   "display_name": "Python 3",
   "language": "python",
   "name": "python3"
  },
  "language_info": {
   "codemirror_mode": {
    "name": "ipython",
    "version": 3
   },
   "file_extension": ".py",
   "mimetype": "text/x-python",
   "name": "python",
   "nbconvert_exporter": "python",
   "pygments_lexer": "ipython3",
   "version": "3.7.3"
  }
 },
 "nbformat": 4,
 "nbformat_minor": 2
}
